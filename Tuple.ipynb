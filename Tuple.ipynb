{
  "nbformat": 4,
  "nbformat_minor": 0,
  "metadata": {
    "colab": {
      "name": "Untitled1.ipynb",
      "provenance": [],
      "authorship_tag": "ABX9TyOVQTzk6mTj83ZLP0aXLgEB",
      "include_colab_link": true
    },
    "kernelspec": {
      "name": "python3",
      "display_name": "Python 3"
    }
  },
  "cells": [
    {
      "cell_type": "markdown",
      "metadata": {
        "id": "view-in-github",
        "colab_type": "text"
      },
      "source": [
        "<a href=\"https://colab.research.google.com/github/asalimw/PythonCode-MIT/blob/main/Tuple.ipynb\" target=\"_parent\"><img src=\"https://colab.research.google.com/assets/colab-badge.svg\" alt=\"Open In Colab\"/></a>"
      ]
    },
    {
      "cell_type": "code",
      "metadata": {
        "colab": {
          "base_uri": "https://localhost:8080/"
        },
        "id": "y-DdxKe4Xxge",
        "outputId": "178994cd-6c9e-4aef-ed3a-8402e3630bf7"
      },
      "source": [
        "#########################\r\n",
        "## EXAMPLE: returning a tuple\r\n",
        "#########################\r\n",
        "def quotient_and_remainder(x, y):\r\n",
        "    q = x // y\r\n",
        "    r = x % y\r\n",
        "    return (q, r)\r\n",
        "    \r\n",
        "(quot, rem) = quotient_and_remainder(5,3)\r\n",
        "print(quot)\r\n",
        "print(rem)"
      ],
      "execution_count": null,
      "outputs": [
        {
          "output_type": "stream",
          "text": [
            "1\n",
            "2\n"
          ],
          "name": "stdout"
        }
      ]
    },
    {
      "cell_type": "code",
      "metadata": {
        "colab": {
          "base_uri": "https://localhost:8080/"
        },
        "id": "1TvHblSsdOzC",
        "outputId": "7ae518b0-d597-49e4-8765-b0369f9c6e2e"
      },
      "source": [
        "#########################\r\n",
        "## EXAMPLE: iterating over tuples\r\n",
        "#########################\r\n",
        "def get_data(aTuple):\r\n",
        "    \"\"\"\r\n",
        "    aTuple, tuple of tuples (int, string)\r\n",
        "    Extracts all integers from aTuple and sets \r\n",
        "    them as elements in a new tuple. \r\n",
        "    Extracts all unique strings from from aTuple \r\n",
        "    and sets them as elements in a new tuple.\r\n",
        "    Returns a tuple of the minimum integer, the\r\n",
        "    maximum integer, and the number of unique strings\r\n",
        "    \"\"\"\r\n",
        "    nums = ()    # empty tuple\r\n",
        "    words = ()\r\n",
        "    for t in aTuple:\r\n",
        "        # concatenating with a singleton tuple\r\n",
        "        nums = nums + (t[0],)   \r\n",
        "        # only add words haven't added before\r\n",
        "        if t[1] not in words:   \r\n",
        "            words = words + (t[1],)\r\n",
        "    min_n = min(nums)\r\n",
        "    max_n = max(nums)\r\n",
        "    unique_words = len(words)\r\n",
        "    return (min_n, max_n, unique_words)\r\n",
        "\r\n",
        "test = ((1,\"a\"),(2, \"b\"),\r\n",
        "        (1,\"a\"),(7,\"b\"))\r\n",
        "(a, b, c) = get_data(test)\r\n",
        "print(\"a:\",a,\"b:\",b,\"c:\",c)\r\n",
        "\r\n",
        "# apply to any data you want!\r\n",
        "tswift = ((2014,\"Katy\"),\r\n",
        "          (2014, \"Harry\"),\r\n",
        "          (2012,\"Jake\"), \r\n",
        "          (2010,\"Taylor\"), \r\n",
        "          (2008,\"Joe\"))    \r\n",
        "(min_year, max_year, num_people) = get_data(tswift)\r\n",
        "print(\"From\", min_year, \"to\", max_year, \\\r\n",
        "        \"Taylor Swift wrote songs about\", num_people, \"people!\")"
      ],
      "execution_count": null,
      "outputs": [
        {
          "output_type": "stream",
          "text": [
            "a: 1 b: 7 c: 2\n",
            "From 2008 to 2014 Taylor Swift wrote songs about 5 people!\n"
          ],
          "name": "stdout"
        }
      ]
    },
    {
      "cell_type": "code",
      "metadata": {
        "id": "P_etR0Er0NJb"
      },
      "source": [
        "L = [\"life\", \"answer\", 42, 0]\r\n",
        "for thing in L:\r\n",
        "    if thing == 0:\r\n",
        "        L[thing] = \"universe\"\r\n",
        "    elif thing == 42:\r\n",
        "        L[1] = \"everything\"\r\n",
        "        "
      ],
      "execution_count": null,
      "outputs": []
    },
    {
      "cell_type": "code",
      "metadata": {
        "id": "4dv3KhaiCjmE"
      },
      "source": [
        "#Tower of Hanoi\r\n",
        "\r\n",
        "def printMove(fr, to):\r\n",
        "    print('move from ' + str(fr) + ' to ' + str(to))\r\n",
        "\r\n",
        "def Towers(n, fr, to, spare):\r\n",
        "    if n == 1:\r\n",
        "        printMove(fr, to)\r\n",
        "    else:\r\n",
        "        Towers(n-1, fr, spare, to)\r\n",
        "        Towers(1, fr, to, spare)\r\n",
        "        Towers(n-1, spare, to, fr)\r\n",
        "\r\n",
        "print(Towers(10, 'P1', 'P2', 'P3'))"
      ],
      "execution_count": null,
      "outputs": []
    },
    {
      "cell_type": "code",
      "metadata": {
        "colab": {
          "base_uri": "https://localhost:8080/"
        },
        "id": "s3NP0wILECbv",
        "outputId": "766a8028-6503-4a70-be26-7cf48d8a93f6"
      },
      "source": [
        "#####################################\r\n",
        "# EXAMPLE:  fibonacci\r\n",
        "#####################################\r\n",
        "\r\n",
        "def fib(x):\r\n",
        "    \"\"\"assumes x an int >= 0\r\n",
        "       returns Fibonacci of x\"\"\"\r\n",
        "    if x == 0 or x == 1:\r\n",
        "        return 1\r\n",
        "    else:\r\n",
        "        return fib(x-1) + fib(x-2)\r\n",
        "\r\n",
        "print(fib(10))"
      ],
      "execution_count": null,
      "outputs": [
        {
          "output_type": "stream",
          "text": [
            "89\n"
          ],
          "name": "stdout"
        }
      ]
    },
    {
      "cell_type": "code",
      "metadata": {
        "colab": {
          "base_uri": "https://localhost:8080/"
        },
        "id": "sdhOFTlmJcVr",
        "outputId": "addb31c5-f6d1-4cd8-866d-f6310f12a40f"
      },
      "source": [
        "#####################################\r\n",
        "# EXAMPLE: using dictionaries\r\n",
        "#          counting frequencies of words in song lyrics\r\n",
        "#####################################\r\n",
        "\r\n",
        "def lyrics_to_frequencies(lyrics):\r\n",
        "    myDict = {}\r\n",
        "    for word in lyrics:\r\n",
        "        if word in myDict:\r\n",
        "            myDict[word] += 1\r\n",
        "        else:\r\n",
        "            myDict[word] = 1\r\n",
        "    return myDict\r\n",
        "    \r\n",
        "    \r\n",
        "she_loves_you = ['she', 'loves', 'you', 'yeah', 'yeah', \r\n",
        "'yeah','she', 'loves', 'you', 'yeah', 'yeah', 'yeah',\r\n",
        "'she', 'loves', 'you', 'yeah', 'yeah', 'yeah',\r\n",
        "\r\n",
        "'you', 'think', \"you've\", 'lost', 'your', 'love',\r\n",
        "'well', 'i', 'saw', 'her', 'yesterday-yi-yay',\r\n",
        "\"it's\", 'you', \"she's\", 'thinking', 'of',\r\n",
        "'and', 'she', 'told', 'me', 'what', 'to', 'say-yi-yay',\r\n",
        "\r\n",
        "'she', 'says', 'she', 'loves', 'you',\r\n",
        "'and', 'you', 'know', 'that', \"can't\", 'be', 'bad',\r\n",
        "'yes', 'she', 'loves', 'you',\r\n",
        "'and', 'you', 'know', 'you', 'should', 'be', 'glad',\r\n",
        "\r\n",
        "'she', 'said', 'you', 'hurt', 'her', 'so',\r\n",
        "'she', 'almost', 'lost', 'her', 'mind',\r\n",
        "'and', 'now', 'she', 'says', 'she', 'knows',\r\n",
        "\"you're\", 'not', 'the', 'hurting', 'kind',\r\n",
        "\r\n",
        "'she', 'says', 'she', 'loves', 'you',\r\n",
        "'and', 'you', 'know', 'that', \"can't\", 'be', 'bad',\r\n",
        "'yes', 'she', 'loves', 'you',\r\n",
        "'and', 'you', 'know', 'you', 'should', 'be', 'glad',\r\n",
        "\r\n",
        "'oo', 'she', 'loves', 'you', 'yeah', 'yeah', 'yeah',\r\n",
        "'she', 'loves', 'you', 'yeah', 'yeah', 'yeah',\r\n",
        "'with', 'a', 'love', 'like', 'that',\r\n",
        "'you', 'know', 'you', 'should', 'be', 'glad',\r\n",
        "\r\n",
        "'you', 'know', \"it's\", 'up', 'to', 'you',\r\n",
        "'i', 'think', \"it's\", 'only', 'fair',\r\n",
        "'pride', 'can', 'hurt', 'you', 'too',\r\n",
        "'pologize', 'to', 'her',\r\n",
        "\r\n",
        "'Because', 'she', 'loves', 'you',\r\n",
        "'and', 'you', 'know', 'that', \"can't\", 'be', 'bad',\r\n",
        "'Yes', 'she', 'loves', 'you',\r\n",
        "'and', 'you', 'know', 'you', 'should', 'be', 'glad',\r\n",
        "\r\n",
        "'oo', 'she', 'loves', 'you', 'yeah', 'yeah', 'yeah',\r\n",
        "'she', 'loves', 'you', 'yeah', 'yeah', 'yeah',\r\n",
        "'with', 'a', 'love', 'like', 'that',\r\n",
        "'you', 'know', 'you', 'should', 'be', 'glad',\r\n",
        "'with', 'a', 'love', 'like', 'that',\r\n",
        "'you', 'know', 'you', 'should', 'be', 'glad',\r\n",
        "'with', 'a', 'love', 'like', 'that',\r\n",
        "'you', 'know', 'you', 'should', 'be', 'glad',\r\n",
        "'yeah', 'yeah', 'yeah',\r\n",
        "'yeah', 'yeah', 'yeah', 'yeah'\r\n",
        "]\r\n",
        "\r\n",
        "beatles = lyrics_to_frequencies(she_loves_you)\r\n",
        "\r\n",
        "\r\n",
        "def most_common_words(freqs):\r\n",
        "    values = freqs.values()\r\n",
        "    best = max(freqs.values())\r\n",
        "    words = []\r\n",
        "    for k in freqs:\r\n",
        "        if freqs[k] == best:\r\n",
        "            words.append(k)\r\n",
        "    return (words, best)\r\n",
        "    \r\n",
        "def words_often(freqs, minTimes):\r\n",
        "    result = []\r\n",
        "    done = False\r\n",
        "    while not done:\r\n",
        "        temp = most_common_words(freqs)\r\n",
        "        if temp[1] >= minTimes:\r\n",
        "            result.append(temp)\r\n",
        "            for w in temp[0]:\r\n",
        "                del(freqs[w])  #remove word from dict\r\n",
        "        else:\r\n",
        "            done = True\r\n",
        "    return result\r\n",
        "    \r\n",
        "print(words_often(beatles, 5))"
      ],
      "execution_count": null,
      "outputs": [
        {
          "output_type": "stream",
          "text": [
            "[(['you'], 36), (['yeah'], 28), (['she'], 20), (['loves'], 13), (['know'], 11), (['be'], 10), (['and'], 8), (['that', 'should', 'glad'], 7), (['love'], 5)]\n"
          ],
          "name": "stdout"
        }
      ]
    },
    {
      "cell_type": "code",
      "metadata": {
        "colab": {
          "base_uri": "https://localhost:8080/"
        },
        "id": "jzY9u_EfLw-q",
        "outputId": "cf86ac86-95d8-46b1-ca45-3f7f7a22468c"
      },
      "source": [
        "######################################\r\n",
        "# EXAMPLE: Exceptions and input\r\n",
        "######################################\r\n",
        "#a = int(input(\"Tell me one number: \"))\r\n",
        "#b = int(input(\"Tell me another number: \"))\r\n",
        "#print(\"a/b = \", a/b)\r\n",
        "#print(\"a+b = \", a+b)\r\n",
        "\r\n",
        "try:\r\n",
        "    a = int(input(\"Tell me one number: \"))\r\n",
        "    b = int(input(\"Tell me another number: \"))\r\n",
        "    print(\"a/b = \", a/b)\r\n",
        "except:\r\n",
        "    print(\"Bug in user input.\")\r\n",
        "\r\n",
        "\r\n",
        "try:\r\n",
        "    a = int(input(\"Tell me one number: \"))\r\n",
        "    b = int(input(\"Tell me another number: \"))\r\n",
        "    print(\"a/b = \", a/b)\r\n",
        "    print(\"a+b = \", a+b)\r\n",
        "except ValueError:\r\n",
        "    print(\"Could not convert to a number.\")\r\n",
        "except ZeroDivisionError:\r\n",
        "    print(\"Can't divide by zero\")\r\n",
        "except:\r\n",
        "    print(\"Something went very wrong.\")"
      ],
      "execution_count": null,
      "outputs": [
        {
          "output_type": "stream",
          "text": [
            "Tell me one number: 5\n",
            "Tell me another number: 0\n",
            "Bug in user input.\n",
            "Tell me one number: 3\n",
            "Tell me another number: 4\n",
            "a/b =  0.75\n",
            "a+b =  7\n"
          ],
          "name": "stdout"
        }
      ]
    },
    {
      "cell_type": "code",
      "metadata": {
        "id": "v2_5s9yT6235"
      },
      "source": [
        ""
      ],
      "execution_count": null,
      "outputs": []
    }
  ]
}