{
  "nbformat": 4,
  "nbformat_minor": 0,
  "metadata": {
    "colab": {
      "name": "Untitled0.ipynb",
      "provenance": [],
      "authorship_tag": "ABX9TyNaRw7AIIcIDIbHWtLWxggX",
      "include_colab_link": true
    },
    "kernelspec": {
      "name": "python3",
      "display_name": "Python 3"
    }
  },
  "cells": [
    {
      "cell_type": "markdown",
      "metadata": {
        "id": "view-in-github",
        "colab_type": "text"
      },
      "source": [
        "<a href=\"https://colab.research.google.com/github/asalimw/PythonCode-MIT/blob/main/Lect1-ForLoop-Various.ipynb\" target=\"_parent\"><img src=\"https://colab.research.google.com/assets/colab-badge.svg\" alt=\"Open In Colab\"/></a>"
      ]
    },
    {
      "cell_type": "code",
      "metadata": {
        "id": "6zFhP1g0RQne"
      },
      "source": [
        "####################\r\n",
        "## EXAMPLE: for loops over strings\r\n",
        "####################\r\n",
        "s = \"demo loops\"\r\n",
        "for index in range(len(s)):\r\n",
        "    if s[index] == 'i' or s[index] == 'u':\r\n",
        "        print(\"There is an i or u\")\r\n",
        "\r\n",
        "\r\n"
      ],
      "execution_count": null,
      "outputs": []
    },
    {
      "cell_type": "code",
      "metadata": {
        "colab": {
          "base_uri": "https://localhost:8080/"
        },
        "id": "e2g4TTiLXl6Y",
        "outputId": "e62fda93-423c-44a2-e1d0-d6581999f1d3"
      },
      "source": [
        "####################\r\n",
        "## EXAMPLE: while loops and strings\r\n",
        "## CHALLENGE: rewrite while loop with a for loop\r\n",
        "####################\r\n",
        "an_letters = \"aefhilmnorsxAEFHILMNORSX\"\r\n",
        "word = input(\"I will cheer for you! Enter a word: \")\r\n",
        "times = int(input(\"Enthusiasm level (1-10): \"))\r\n",
        "\r\n",
        "i = 0\r\n",
        "while i < len(word):\r\n",
        "    char = word[i]\r\n",
        "    if char in an_letters:\r\n",
        "        print(\"Give me an \" + char + \"! \" + char)\r\n",
        "    else:\r\n",
        "        print(\"Give me a  \" + char + \"! \" + char)\r\n",
        "    i += 1\r\n",
        "print(\"What does that spell?\")\r\n",
        "for i in range(times):\r\n",
        "    print(word, \"!!!\")"
      ],
      "execution_count": null,
      "outputs": [
        {
          "output_type": "stream",
          "text": [
            "I will cheer for you! Enter a word: Willianto\n",
            "Enthusiasm level (1-10): 5\n",
            "Give me a  W! W\n",
            "Give me an i! i\n",
            "Give me an l! l\n",
            "Give me an l! l\n",
            "Give me an i! i\n",
            "Give me an a! a\n",
            "Give me an n! n\n",
            "Give me a  t! t\n",
            "Give me an o! o\n",
            "What does that spell?\n",
            "Willianto !!!\n",
            "Willianto !!!\n",
            "Willianto !!!\n",
            "Willianto !!!\n",
            "Willianto !!!\n"
          ],
          "name": "stdout"
        }
      ]
    },
    {
      "cell_type": "code",
      "metadata": {
        "colab": {
          "base_uri": "https://localhost:8080/"
        },
        "id": "KQwv8p2eYz1k",
        "outputId": "ebaa2000-53ef-4e62-b434-0dbd043a7afc"
      },
      "source": [
        "####################\r\n",
        "## EXAMPLE: perfect cube \r\n",
        "####################\r\n",
        "cube = 27\r\n",
        "##cube = 8120601\r\n",
        "for guess in range(cube+1):\r\n",
        "    if guess**3 == cube:\r\n",
        "        print(\"Cube root of\", cube, \"is\", guess)\r\n",
        "#        # loops keeps going even after found the cube root"
      ],
      "execution_count": null,
      "outputs": [
        {
          "output_type": "stream",
          "text": [
            "Cube root of 27 is 3\n"
          ],
          "name": "stdout"
        }
      ]
    },
    {
      "cell_type": "code",
      "metadata": {
        "colab": {
          "base_uri": "https://localhost:8080/"
        },
        "id": "gnibmz7wG2BC",
        "outputId": "1e212e5b-67ba-4e19-b201-22119188bb0a"
      },
      "source": [
        "s1 = \"mit u rock\"\r\n",
        "s2 = \"i rule mit\"\r\n",
        "if len(s1) == len(s2):\r\n",
        "    for char1 in s1:\r\n",
        "        for char2 in s2:\r\n",
        "            if char1 == char2:\r\n",
        "                print(\"common letter\")\r\n",
        "                break"
      ],
      "execution_count": null,
      "outputs": [
        {
          "output_type": "stream",
          "text": [
            "common letter\n",
            "common letter\n",
            "common letter\n",
            "common letter\n",
            "common letter\n",
            "common letter\n",
            "common letter\n"
          ],
          "name": "stdout"
        }
      ]
    },
    {
      "cell_type": "code",
      "metadata": {
        "colab": {
          "base_uri": "https://localhost:8080/"
        },
        "id": "ZbTvlBTDir75",
        "outputId": "c9606575-9b43-49b6-9d7c-5ee195440cb0"
      },
      "source": [
        "####################\r\n",
        "## EXAMPLE: bisection cube root (only positive cubes!)\r\n",
        "####################\r\n",
        "cube = 27\r\n",
        "#cube = 8120601\r\n",
        "## won't work with x < 1 because initial upper bound is less than ans\r\n",
        "#cube = 0.25\r\n",
        "epsilon = 0.01\r\n",
        "num_guesses = 0\r\n",
        "low = 0\r\n",
        "high = cube\r\n",
        "guess = (high + low)/2.0\r\n",
        "while abs(guess**3 - cube) >= epsilon:\r\n",
        "    if guess**3 < cube:\r\n",
        "        # look only in upper half search space\r\n",
        "        low = guess\r\n",
        "    else:\r\n",
        "        # look only in lower half search space\r\n",
        "        high = guess\r\n",
        "    # next guess is halfway in search space\r\n",
        "    guess = (high + low)/2.0\r\n",
        "    num_guesses += 1\r\n",
        "print('num_guesses =', num_guesses)\r\n",
        "print(guess, 'is close to the cube root of', cube)"
      ],
      "execution_count": null,
      "outputs": [
        {
          "output_type": "stream",
          "text": [
            "num_guesses = 14\n",
            "3.000091552734375 is close to the cube root of 27\n"
          ],
          "name": "stdout"
        }
      ]
    },
    {
      "cell_type": "code",
      "metadata": {
        "colab": {
          "base_uri": "https://localhost:8080/"
        },
        "id": "qze0NQcvPP3o",
        "outputId": "1b55cf5b-3592-4301-c5b4-8164c2f12b7c"
      },
      "source": [
        "#########################\r\n",
        "## EXAMPLE: combinations of print and return\r\n",
        "## Python Tutor link: http://www.pythontutor.com/visualize.html#code=def%20is_even_with_return(%20i%20%29%3A%0A%20%20%20%20%22%22%22%20%0A%20%20%20%20Input%3A%20i,%20a%20positive%20int%0A%20%20%20%20Returns%20True%20if%20i%20is%20even,%20otherwise%20False%0A%20%20%20%20%22%22%22%0A%20%20%20%20print('with%20return'%29%0A%20%20%20%20remainder%20%3D%20i%20%25%202%0A%20%20%20%20return%20remainder%20%3D%3D%200%0A%0Ais_even_with_return(3%29%20%0Aprint(is_even_with_return(3%29%20%29%0A%0Adef%20is_even_without_return(%20i%20%29%3A%0A%20%20%20%20%22%22%22%20%0A%20%20%20%20Input%3A%20i,%20a%20positive%20int%0A%20%20%20%20Does%20not%20return%20anything%0A%20%20%20%20%22%22%22%0A%20%20%20%20print('without%20return'%29%0A%0Ais_even_without_return(3%29%0Aprint(is_even_without_return(3%29%20%29%0A&cumulative=false&curInstr=0&heapPrimitives=false&mode=display&origin=opt-frontend.js&py=3&rawInputLstJSON=%5B%5D&textReferences=false\r\n",
        "#########################\r\n",
        "def is_even_with_return( i ):\r\n",
        "    \"\"\" \r\n",
        "    Input: i, a positive int\r\n",
        "    Returns True if i is even, otherwise False\r\n",
        "    \"\"\"\r\n",
        "    print('with return')\r\n",
        "    remainder = i % 2\r\n",
        "    return remainder == 0\r\n",
        "\r\n",
        "is_even_with_return(4) \r\n",
        "print(is_even_with_return(4) )"
      ],
      "execution_count": null,
      "outputs": [
        {
          "output_type": "stream",
          "text": [
            "with return\n",
            "with return\n",
            "True\n"
          ],
          "name": "stdout"
        }
      ]
    },
    {
      "cell_type": "code",
      "metadata": {
        "colab": {
          "base_uri": "https://localhost:8080/"
        },
        "id": "LupT5blBXYi1",
        "outputId": "e1b69fd9-981a-43e4-f4d3-d8ed16005bdb"
      },
      "source": [
        "# Simple is_even function definition\r\n",
        "def is_even( i ):\r\n",
        "    \"\"\" \r\n",
        "    Input: i, a positive int\r\n",
        "    Returns True if i is even, otherwise False\r\n",
        "    \"\"\"\r\n",
        "    remainder = i % 2\r\n",
        "    return remainder == 0\r\n",
        "\r\n",
        "# Use the is_even function later on in the code\r\n",
        "print(\"All numbers between 0 and 20: even or not\")\r\n",
        "for i in range(20+1):\r\n",
        "    if is_even(i):\r\n",
        "        print(i, \"even\")\r\n",
        "    else:\r\n",
        "        print(i, \"odd\")"
      ],
      "execution_count": null,
      "outputs": [
        {
          "output_type": "stream",
          "text": [
            "All numbers between 0 and 20: even or not\n",
            "0 even\n",
            "1 odd\n",
            "2 even\n",
            "3 odd\n",
            "4 even\n",
            "5 odd\n",
            "6 even\n",
            "7 odd\n",
            "8 even\n",
            "9 odd\n",
            "10 even\n",
            "11 odd\n",
            "12 even\n",
            "13 odd\n",
            "14 even\n",
            "15 odd\n",
            "16 even\n",
            "17 odd\n",
            "18 even\n",
            "19 odd\n",
            "20 even\n"
          ],
          "name": "stdout"
        }
      ]
    },
    {
      "cell_type": "code",
      "metadata": {
        "colab": {
          "base_uri": "https://localhost:8080/"
        },
        "id": "qaDplgM2Y_mU",
        "outputId": "35bb0687-bc5c-4985-aebe-d30d0f7e41b3"
      },
      "source": [
        "def is_even_without_return( i ):\r\n",
        "    \"\"\" \r\n",
        "    Input: i, a positive int\r\n",
        "    Does not return anything\r\n",
        "    \"\"\"\r\n",
        "    print('without return')\r\n",
        "    remainder = i % 2\r\n",
        "\r\n",
        "is_even_without_return(4)\r\n",
        "print(is_even_without_return(4) )"
      ],
      "execution_count": null,
      "outputs": [
        {
          "output_type": "stream",
          "text": [
            "without return\n",
            "without return\n",
            "None\n"
          ],
          "name": "stdout"
        }
      ]
    },
    {
      "cell_type": "code",
      "metadata": {
        "colab": {
          "base_uri": "https://localhost:8080/"
        },
        "id": "GnSpc4wLZObk",
        "outputId": "24293a8c-852d-42c2-d66a-e5ba644e199b"
      },
      "source": [
        "def func_a():\r\n",
        "    print('inside func_a')\r\n",
        "\r\n",
        "def func_b(y):\r\n",
        "    print('inside func_b')\r\n",
        "    return y\r\n",
        "\r\n",
        "def func_c(z):\r\n",
        "    print('inside func_c')\r\n",
        "    return z()\r\n",
        "\r\n",
        "print(func_a())\r\n",
        "print(5+func_b(2))\r\n",
        "print(func_c(func_a))"
      ],
      "execution_count": null,
      "outputs": [
        {
          "output_type": "stream",
          "text": [
            "inside func_a\n",
            "None\n",
            "inside func_b\n",
            "7\n",
            "inside func_c\n",
            "inside func_a\n",
            "None\n"
          ],
          "name": "stdout"
        }
      ]
    },
    {
      "cell_type": "code",
      "metadata": {
        "id": "9dlRjh86fCNm",
        "colab": {
          "base_uri": "https://localhost:8080/"
        },
        "outputId": "4916c807-6b37-416d-e677-97bee01f9b2e"
      },
      "source": [
        "def f(x):\r\n",
        "   x = x + 1\r\n",
        "   print('in f(x): x =', x)\r\n",
        "   return x\r\n",
        "\r\n",
        "x = 3\r\n",
        "z = f(x)\r\n",
        "print('in main program scope: z =', z)\r\n",
        "print('in main program scope: x =', x)\r\n",
        "\r\n",
        "def g(x):\r\n",
        "    def h(x):\r\n",
        "        x = x+1\r\n",
        "        print(\"in h(x): x = \", x)\r\n",
        "    x = x + 1\r\n",
        "    print('in g(x): x = ', x)\r\n",
        "    h(x)\r\n",
        "    return x\r\n",
        "\r\n",
        "x = 3\r\n",
        "z = g(x)\r\n",
        "print('in main program scope: x = ', x)\r\n",
        "print('in main program scope: z = ', z)\r\n"
      ],
      "execution_count": null,
      "outputs": [
        {
          "output_type": "stream",
          "text": [
            "in f(x): x = 4\n",
            "in main program scope: z = 4\n",
            "in main program scope: x = 3\n",
            "in g(x): x =  4\n",
            "in h(x): x =  5\n",
            "in main program scope: x =  3\n",
            "in main program scope: z =  4\n"
          ],
          "name": "stdout"
        }
      ]
    },
    {
      "cell_type": "code",
      "metadata": {
        "colab": {
          "base_uri": "https://localhost:8080/"
        },
        "id": "8i-LkoOCTT-U",
        "outputId": "f8980363-53b4-4a2e-901e-445cd11febc7"
      },
      "source": [
        "s = \"6.00 is 6.0001 and 6.0002\"\r\n",
        "new_str = \"\"\r\n",
        "new_str += s[-1]\r\n",
        "new_str += s[0]\r\n",
        "new_str += s[4::30]    \r\n",
        "new_str += s[13:10:-1]\r\n",
        "print(new_str)"
      ],
      "execution_count": null,
      "outputs": [
        {
          "output_type": "stream",
          "text": [
            "26 100\n"
          ],
          "name": "stdout"
        }
      ]
    }
  ]
}