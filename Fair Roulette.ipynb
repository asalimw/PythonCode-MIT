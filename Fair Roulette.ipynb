{
  "nbformat": 4,
  "nbformat_minor": 0,
  "metadata": {
    "colab": {
      "name": "Untitled6.ipynb",
      "provenance": [],
      "authorship_tag": "ABX9TyNG3nSPs6BE84em4QMghbiv",
      "include_colab_link": true
    },
    "kernelspec": {
      "name": "python3",
      "display_name": "Python 3"
    }
  },
  "cells": [
    {
      "cell_type": "markdown",
      "metadata": {
        "id": "view-in-github",
        "colab_type": "text"
      },
      "source": [
        "<a href=\"https://colab.research.google.com/github/asalimw/PythonCode-MIT/blob/main/Fair%20Roulette.ipynb\" target=\"_parent\"><img src=\"https://colab.research.google.com/assets/colab-badge.svg\" alt=\"Open In Colab\"/></a>"
      ]
    },
    {
      "cell_type": "code",
      "metadata": {
        "colab": {
          "base_uri": "https://localhost:8080/"
        },
        "id": "RAaQLVwoILDr",
        "outputId": "838bba02-ecf4-4c9b-bfe6-bd262acdfc46"
      },
      "source": [
        "import random\r\n",
        "\r\n",
        "class FairRoulette():\r\n",
        "    def __init__(self):\r\n",
        "        self.pockets = []\r\n",
        "        for i in range(1,37):\r\n",
        "            self.pockets.append(i)\r\n",
        "        self.ball = None\r\n",
        "        self.pocketOdds = len(self.pockets) - 1\r\n",
        "    def spin(self):\r\n",
        "        self.ball = random.choice(self.pockets)\r\n",
        "    def betPocket(self, pocket, amt):\r\n",
        "        if str(pocket) == str(self.ball):\r\n",
        "            return amt*self.pocketOdds\r\n",
        "        else: return -amt\r\n",
        "    def __str__(self):\r\n",
        "        return 'Fair Roulette'\r\n",
        "\r\n",
        "def playRoulette(game, numSpins, pocket, bet, toPrint):\r\n",
        "    totPocket = 0\r\n",
        "    for i in range(numSpins):\r\n",
        "        game.spin()\r\n",
        "        totPocket += game.betPocket(pocket, bet)\r\n",
        "    if toPrint:\r\n",
        "        print(numSpins, 'spins of', game)\r\n",
        "        print('Expected return betting', pocket, '=',\\\r\n",
        "              str(100*totPocket/numSpins) + '%\\n')\r\n",
        "    return (totPocket/numSpins)\r\n",
        "\r\n",
        "random.seed(0)\r\n",
        "game = FairRoulette()\r\n",
        "\r\n",
        "for numSpins in (100, 1000000):\r\n",
        "    for i in range(3):\r\n",
        "        playRoulette(game, numSpins, 2, 1, True)"
      ],
      "execution_count": null,
      "outputs": [
        {
          "output_type": "stream",
          "text": [
            "100 spins of Fair Roulette\n",
            "Expected return betting 2 = -100.0%\n",
            "\n",
            "100 spins of Fair Roulette\n",
            "Expected return betting 2 = 44.0%\n",
            "\n",
            "100 spins of Fair Roulette\n",
            "Expected return betting 2 = -28.0%\n",
            "\n",
            "1000000 spins of Fair Roulette\n",
            "Expected return betting 2 = -0.046%\n",
            "\n",
            "1000000 spins of Fair Roulette\n",
            "Expected return betting 2 = 0.602%\n",
            "\n",
            "1000000 spins of Fair Roulette\n",
            "Expected return betting 2 = 0.7964%\n",
            "\n"
          ],
          "name": "stdout"
        }
      ]
    }
  ]
}