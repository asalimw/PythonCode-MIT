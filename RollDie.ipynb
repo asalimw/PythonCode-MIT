{
  "nbformat": 4,
  "nbformat_minor": 0,
  "metadata": {
    "colab": {
      "name": "Untitled4.ipynb",
      "provenance": [],
      "authorship_tag": "ABX9TyOlrQ0gkIb4FGWTcj2TPAjK",
      "include_colab_link": true
    },
    "kernelspec": {
      "name": "python3",
      "display_name": "Python 3"
    }
  },
  "cells": [
    {
      "cell_type": "markdown",
      "metadata": {
        "id": "view-in-github",
        "colab_type": "text"
      },
      "source": [
        "<a href=\"https://colab.research.google.com/github/asalimw/PythonCode-MIT/blob/main/RollDie.ipynb\" target=\"_parent\"><img src=\"https://colab.research.google.com/assets/colab-badge.svg\" alt=\"Open In Colab\"/></a>"
      ]
    },
    {
      "cell_type": "code",
      "metadata": {
        "colab": {
          "base_uri": "https://localhost:8080/"
        },
        "id": "jypOiNTCc2i8",
        "outputId": "7d29fadb-0e15-48f5-a922-b15c72333247"
      },
      "source": [
        "import random\r\n",
        "random.seed(1000)\r\n",
        " \r\n",
        "def rollDie():\r\n",
        "    \"\"\"returns a random int between 1 and 6\"\"\"\r\n",
        "    return random.choice([1,2,3,4,5,6])\r\n",
        " \r\n",
        "def testRoll(n = 10):\r\n",
        "    result = ''\r\n",
        "    for i in range(n):\r\n",
        "        result = result + str(rollDie())\r\n",
        "    print(result)\r\n",
        "\r\n",
        "#testRoll(5)\r\n",
        "\r\n",
        "def runSim(goal, numTrials, txt):\r\n",
        "    total = 0\r\n",
        "    for i in range(numTrials):\r\n",
        "        result = ''\r\n",
        "        for j in range(len(goal)):\r\n",
        "            result += str(rollDie())\r\n",
        "        if result == goal:\r\n",
        "            total += 1\r\n",
        "    print('Actual probability of', txt, '=',\r\n",
        "          round(1/(6**len(goal)), 8)) \r\n",
        "    estProbability = round(total/numTrials, 8)\r\n",
        "    print('Estimated Probability of', txt, '=',\r\n",
        "          round(estProbability, 8))\r\n",
        "    \r\n",
        "runSim('11111', 100000, '11111')\r\n"
      ],
      "execution_count": null,
      "outputs": [
        {
          "output_type": "stream",
          "text": [
            "Actual probability of 11111 = 0.0001286\n",
            "Estimated Probability of 11111 = 0.00014\n"
          ],
          "name": "stdout"
        }
      ]
    },
    {
      "cell_type": "code",
      "metadata": {
        "colab": {
          "base_uri": "https://localhost:8080/"
        },
        "id": "FJaIIwVEiGMU",
        "outputId": "a2ce0a13-2154-4572-91f9-5db10be3d4c0"
      },
      "source": [
        "def sameDate(numPeople, numSame):\r\n",
        "#    possibleDates = range(366)\r\n",
        "    possibleDates = 4*list(range(0, 57)) + [58]\\\r\n",
        "                    + 4*list(range(59, 366))\\\r\n",
        "                    + 4*list(range(180, 270))\r\n",
        "    birthdays = [0]*366\r\n",
        "    for p in range(numPeople):\r\n",
        "        birthDate = random.choice(possibleDates)\r\n",
        "        birthdays[birthDate] += 1\r\n",
        "    return max(birthdays) >= numSame\r\n",
        "\r\n",
        "def birthdayProb(numPeople, numSame, numTrials):\r\n",
        "    numHits = 0\r\n",
        "    for t in range(numTrials):\r\n",
        "        if sameDate(numPeople, numSame):\r\n",
        "            numHits += 1\r\n",
        "    return numHits/numTrials\r\n",
        "\r\n",
        "import math\r\n",
        "\r\n",
        "for numPeople in [10, 20, 40, 100]:\r\n",
        "    print('For', numPeople,\r\n",
        "          'ppl, est. prob. of a shared birthday is',\r\n",
        "          birthdayProb(numPeople, 3, 10000))\r\n",
        "    numerator = math.factorial(366)\r\n",
        "    denom = (366**numPeople)*math.factorial(366-numPeople)\r\n",
        "    print('Actual prob. for N = 100 =',\r\n",
        "          1 - numerator/denom)\r\n"
      ],
      "execution_count": null,
      "outputs": [
        {
          "output_type": "stream",
          "text": [
            "For 10 ppl, est. prob. of a shared birthday is 0.0014\n",
            "Actual prob. for N = 100 = 0.1166454118039999\n",
            "For 20 ppl, est. prob. of a shared birthday is 0.0105\n",
            "Actual prob. for N = 100 = 0.4105696370550831\n",
            "For 40 ppl, est. prob. of a shared birthday is 0.0901\n",
            "Actual prob. for N = 100 = 0.89054476188945\n",
            "For 100 ppl, est. prob. of a shared birthday is 0.7506\n",
            "Actual prob. for N = 100 = 0.9999996784357714\n"
          ],
          "name": "stdout"
        }
      ]
    }
  ]
}